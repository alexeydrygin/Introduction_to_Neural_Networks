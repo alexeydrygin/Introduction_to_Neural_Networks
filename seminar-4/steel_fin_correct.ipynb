{
  "cells": [
    {
      "cell_type": "markdown",
      "id": "e0b1d0e1",
      "metadata": {
        "id": "e0b1d0e1",
        "papermill": {
          "duration": 0.01841,
          "end_time": "2023-12-27T07:58:14.533248",
          "exception": false,
          "start_time": "2023-12-27T07:58:14.514838",
          "status": "completed"
        },
        "tags": []
      },
      "source": [
        "Сталь – один из важнейших строительных материалов современности. Стальные здания устойчивы к естественному и искусственному износу, что сделало этот материал повсеместно распространенным во всем мире. Чтобы сделать производство стали более эффективным, этот конкурс поможет выявить дефекты.\n"
      ]
    },
    {
      "cell_type": "markdown",
      "id": "3d1eb1ad",
      "metadata": {
        "papermill": {
          "duration": 0.017559,
          "end_time": "2023-12-27T07:58:14.568850",
          "exception": false,
          "start_time": "2023-12-27T07:58:14.551291",
          "status": "completed"
        },
        "tags": [],
        "id": "3d1eb1ad"
      },
      "source": [
        "ссылка на каггл с этим соревнованием - https://www.kaggle.com/c/severstal-steel-defect-detection"
      ]
    },
    {
      "cell_type": "markdown",
      "id": "f5586340",
      "metadata": {
        "id": "f5586340",
        "papermill": {
          "duration": 0.017444,
          "end_time": "2023-12-27T07:58:14.604291",
          "exception": false,
          "start_time": "2023-12-27T07:58:14.586847",
          "status": "completed"
        },
        "tags": []
      },
      "source": [
        "### Постановка задачи :\n",
        "\n",
        "Этот конкурс представляет собой двойной конкурс: классифицируйте тип дефекта стали, а также сегментируйте части изображения, содержащие дефект.\n",
        "\n"
      ]
    },
    {
      "cell_type": "code",
      "execution_count": null,
      "id": "b184991a",
      "metadata": {
        "execution": {
          "iopub.execute_input": "2023-12-27T07:58:14.642850Z",
          "iopub.status.busy": "2023-12-27T07:58:14.641724Z",
          "iopub.status.idle": "2023-12-27T07:58:31.920360Z",
          "shell.execute_reply": "2023-12-27T07:58:31.919223Z"
        },
        "id": "b184991a",
        "papermill": {
          "duration": 17.30131,
          "end_time": "2023-12-27T07:58:31.923478",
          "exception": false,
          "start_time": "2023-12-27T07:58:14.622168",
          "status": "completed"
        },
        "tags": []
      },
      "outputs": [],
      "source": [
        "import pandas as pd\n",
        "import numpy as np\n",
        "import matplotlib.pyplot as plt\n",
        "import seaborn as sns\n",
        "import warnings\n",
        "import keras\n",
        "from sklearn.model_selection import train_test_split\n",
        "from tqdm import tqdm\n",
        "from sklearn.preprocessing import OneHotEncoder,LabelEncoder\n",
        "from keras.utils import to_categorical\n",
        "from keras.models import Sequential\n",
        "import tensorflow as tf\n",
        "from keras.layers import Dense,Conv2D,Flatten,MaxPooling2D,Dropout"
      ]
    },
    {
      "cell_type": "markdown",
      "source": [],
      "metadata": {
        "id": "PCuGmHefoQ0a"
      },
      "id": "PCuGmHefoQ0a"
    },
    {
      "cell_type": "code",
      "source": [
        "data = pd.read_csv('train.csv')"
      ],
      "metadata": {
        "id": "uzOpFp5NnvMH"
      },
      "id": "uzOpFp5NnvMH",
      "execution_count": null,
      "outputs": []
    },
    {
      "cell_type": "code",
      "execution_count": null,
      "id": "95c02989",
      "metadata": {
        "execution": {
          "iopub.execute_input": "2023-12-27T07:58:32.542114Z",
          "iopub.status.busy": "2023-12-27T07:58:32.541680Z",
          "iopub.status.idle": "2023-12-27T07:58:32.573679Z",
          "shell.execute_reply": "2023-12-27T07:58:32.572370Z"
        },
        "id": "95c02989",
        "outputId": "cf35a76c-c38c-4167-c9f0-a277faf38563",
        "papermill": {
          "duration": 0.055127,
          "end_time": "2023-12-27T07:58:32.576490",
          "exception": false,
          "start_time": "2023-12-27T07:58:32.521363",
          "status": "completed"
        },
        "tags": [],
        "colab": {
          "base_uri": "https://localhost:8080/",
          "height": 423
        }
      },
      "outputs": [
        {
          "output_type": "execute_result",
          "data": {
            "text/plain": [
              "            ImageId  ClassId  \\\n",
              "0     0002cc93b.jpg        1   \n",
              "1     0007a71bf.jpg        3   \n",
              "2     000a4bcdd.jpg        1   \n",
              "3     000f6bf48.jpg        4   \n",
              "4     0014fce06.jpg        3   \n",
              "...             ...      ...   \n",
              "7090  ffcf72ecf.jpg        3   \n",
              "7091  fff02e9c5.jpg        3   \n",
              "7092  fffe98443.jpg        3   \n",
              "7093  ffff4eaa8.jpg        3   \n",
              "7094  ffffd67df.jpg        3   \n",
              "\n",
              "                                          EncodedPixels  \n",
              "0     29102 12 29346 24 29602 24 29858 24 30114 24 3...  \n",
              "1     18661 28 18863 82 19091 110 19347 110 19603 11...  \n",
              "2     37607 3 37858 8 38108 14 38359 20 38610 25 388...  \n",
              "3     131973 1 132228 4 132483 6 132738 8 132993 11 ...  \n",
              "4     229501 11 229741 33 229981 55 230221 77 230468...  \n",
              "...                                                 ...  \n",
              "7090  121911 34 122167 101 122422 169 122678 203 122...  \n",
              "7091  207523 3 207777 9 208030 15 208283 22 208537 2...  \n",
              "7092  105929 5 106177 14 106424 24 106672 33 106923 ...  \n",
              "7093  16899 7 17155 20 17411 34 17667 47 17923 60 18...  \n",
              "7094  30931 43 31103 127 31275 211 31489 253 31745 2...  \n",
              "\n",
              "[7095 rows x 3 columns]"
            ],
            "text/html": [
              "\n",
              "  <div id=\"df-8db591b8-5c5b-45fc-a80c-3f04988b3833\" class=\"colab-df-container\">\n",
              "    <div>\n",
              "<style scoped>\n",
              "    .dataframe tbody tr th:only-of-type {\n",
              "        vertical-align: middle;\n",
              "    }\n",
              "\n",
              "    .dataframe tbody tr th {\n",
              "        vertical-align: top;\n",
              "    }\n",
              "\n",
              "    .dataframe thead th {\n",
              "        text-align: right;\n",
              "    }\n",
              "</style>\n",
              "<table border=\"1\" class=\"dataframe\">\n",
              "  <thead>\n",
              "    <tr style=\"text-align: right;\">\n",
              "      <th></th>\n",
              "      <th>ImageId</th>\n",
              "      <th>ClassId</th>\n",
              "      <th>EncodedPixels</th>\n",
              "    </tr>\n",
              "  </thead>\n",
              "  <tbody>\n",
              "    <tr>\n",
              "      <th>0</th>\n",
              "      <td>0002cc93b.jpg</td>\n",
              "      <td>1</td>\n",
              "      <td>29102 12 29346 24 29602 24 29858 24 30114 24 3...</td>\n",
              "    </tr>\n",
              "    <tr>\n",
              "      <th>1</th>\n",
              "      <td>0007a71bf.jpg</td>\n",
              "      <td>3</td>\n",
              "      <td>18661 28 18863 82 19091 110 19347 110 19603 11...</td>\n",
              "    </tr>\n",
              "    <tr>\n",
              "      <th>2</th>\n",
              "      <td>000a4bcdd.jpg</td>\n",
              "      <td>1</td>\n",
              "      <td>37607 3 37858 8 38108 14 38359 20 38610 25 388...</td>\n",
              "    </tr>\n",
              "    <tr>\n",
              "      <th>3</th>\n",
              "      <td>000f6bf48.jpg</td>\n",
              "      <td>4</td>\n",
              "      <td>131973 1 132228 4 132483 6 132738 8 132993 11 ...</td>\n",
              "    </tr>\n",
              "    <tr>\n",
              "      <th>4</th>\n",
              "      <td>0014fce06.jpg</td>\n",
              "      <td>3</td>\n",
              "      <td>229501 11 229741 33 229981 55 230221 77 230468...</td>\n",
              "    </tr>\n",
              "    <tr>\n",
              "      <th>...</th>\n",
              "      <td>...</td>\n",
              "      <td>...</td>\n",
              "      <td>...</td>\n",
              "    </tr>\n",
              "    <tr>\n",
              "      <th>7090</th>\n",
              "      <td>ffcf72ecf.jpg</td>\n",
              "      <td>3</td>\n",
              "      <td>121911 34 122167 101 122422 169 122678 203 122...</td>\n",
              "    </tr>\n",
              "    <tr>\n",
              "      <th>7091</th>\n",
              "      <td>fff02e9c5.jpg</td>\n",
              "      <td>3</td>\n",
              "      <td>207523 3 207777 9 208030 15 208283 22 208537 2...</td>\n",
              "    </tr>\n",
              "    <tr>\n",
              "      <th>7092</th>\n",
              "      <td>fffe98443.jpg</td>\n",
              "      <td>3</td>\n",
              "      <td>105929 5 106177 14 106424 24 106672 33 106923 ...</td>\n",
              "    </tr>\n",
              "    <tr>\n",
              "      <th>7093</th>\n",
              "      <td>ffff4eaa8.jpg</td>\n",
              "      <td>3</td>\n",
              "      <td>16899 7 17155 20 17411 34 17667 47 17923 60 18...</td>\n",
              "    </tr>\n",
              "    <tr>\n",
              "      <th>7094</th>\n",
              "      <td>ffffd67df.jpg</td>\n",
              "      <td>3</td>\n",
              "      <td>30931 43 31103 127 31275 211 31489 253 31745 2...</td>\n",
              "    </tr>\n",
              "  </tbody>\n",
              "</table>\n",
              "<p>7095 rows × 3 columns</p>\n",
              "</div>\n",
              "    <div class=\"colab-df-buttons\">\n",
              "\n",
              "  <div class=\"colab-df-container\">\n",
              "    <button class=\"colab-df-convert\" onclick=\"convertToInteractive('df-8db591b8-5c5b-45fc-a80c-3f04988b3833')\"\n",
              "            title=\"Convert this dataframe to an interactive table.\"\n",
              "            style=\"display:none;\">\n",
              "\n",
              "  <svg xmlns=\"http://www.w3.org/2000/svg\" height=\"24px\" viewBox=\"0 -960 960 960\">\n",
              "    <path d=\"M120-120v-720h720v720H120Zm60-500h600v-160H180v160Zm220 220h160v-160H400v160Zm0 220h160v-160H400v160ZM180-400h160v-160H180v160Zm440 0h160v-160H620v160ZM180-180h160v-160H180v160Zm440 0h160v-160H620v160Z\"/>\n",
              "  </svg>\n",
              "    </button>\n",
              "\n",
              "  <style>\n",
              "    .colab-df-container {\n",
              "      display:flex;\n",
              "      gap: 12px;\n",
              "    }\n",
              "\n",
              "    .colab-df-convert {\n",
              "      background-color: #E8F0FE;\n",
              "      border: none;\n",
              "      border-radius: 50%;\n",
              "      cursor: pointer;\n",
              "      display: none;\n",
              "      fill: #1967D2;\n",
              "      height: 32px;\n",
              "      padding: 0 0 0 0;\n",
              "      width: 32px;\n",
              "    }\n",
              "\n",
              "    .colab-df-convert:hover {\n",
              "      background-color: #E2EBFA;\n",
              "      box-shadow: 0px 1px 2px rgba(60, 64, 67, 0.3), 0px 1px 3px 1px rgba(60, 64, 67, 0.15);\n",
              "      fill: #174EA6;\n",
              "    }\n",
              "\n",
              "    .colab-df-buttons div {\n",
              "      margin-bottom: 4px;\n",
              "    }\n",
              "\n",
              "    [theme=dark] .colab-df-convert {\n",
              "      background-color: #3B4455;\n",
              "      fill: #D2E3FC;\n",
              "    }\n",
              "\n",
              "    [theme=dark] .colab-df-convert:hover {\n",
              "      background-color: #434B5C;\n",
              "      box-shadow: 0px 1px 3px 1px rgba(0, 0, 0, 0.15);\n",
              "      filter: drop-shadow(0px 1px 2px rgba(0, 0, 0, 0.3));\n",
              "      fill: #FFFFFF;\n",
              "    }\n",
              "  </style>\n",
              "\n",
              "    <script>\n",
              "      const buttonEl =\n",
              "        document.querySelector('#df-8db591b8-5c5b-45fc-a80c-3f04988b3833 button.colab-df-convert');\n",
              "      buttonEl.style.display =\n",
              "        google.colab.kernel.accessAllowed ? 'block' : 'none';\n",
              "\n",
              "      async function convertToInteractive(key) {\n",
              "        const element = document.querySelector('#df-8db591b8-5c5b-45fc-a80c-3f04988b3833');\n",
              "        const dataTable =\n",
              "          await google.colab.kernel.invokeFunction('convertToInteractive',\n",
              "                                                    [key], {});\n",
              "        if (!dataTable) return;\n",
              "\n",
              "        const docLinkHtml = 'Like what you see? Visit the ' +\n",
              "          '<a target=\"_blank\" href=https://colab.research.google.com/notebooks/data_table.ipynb>data table notebook</a>'\n",
              "          + ' to learn more about interactive tables.';\n",
              "        element.innerHTML = '';\n",
              "        dataTable['output_type'] = 'display_data';\n",
              "        await google.colab.output.renderOutput(dataTable, element);\n",
              "        const docLink = document.createElement('div');\n",
              "        docLink.innerHTML = docLinkHtml;\n",
              "        element.appendChild(docLink);\n",
              "      }\n",
              "    </script>\n",
              "  </div>\n",
              "\n",
              "\n",
              "<div id=\"df-38b2bac7-b2ac-45f0-9026-4a0029d8db38\">\n",
              "  <button class=\"colab-df-quickchart\" onclick=\"quickchart('df-38b2bac7-b2ac-45f0-9026-4a0029d8db38')\"\n",
              "            title=\"Suggest charts\"\n",
              "            style=\"display:none;\">\n",
              "\n",
              "<svg xmlns=\"http://www.w3.org/2000/svg\" height=\"24px\"viewBox=\"0 0 24 24\"\n",
              "     width=\"24px\">\n",
              "    <g>\n",
              "        <path d=\"M19 3H5c-1.1 0-2 .9-2 2v14c0 1.1.9 2 2 2h14c1.1 0 2-.9 2-2V5c0-1.1-.9-2-2-2zM9 17H7v-7h2v7zm4 0h-2V7h2v10zm4 0h-2v-4h2v4z\"/>\n",
              "    </g>\n",
              "</svg>\n",
              "  </button>\n",
              "\n",
              "<style>\n",
              "  .colab-df-quickchart {\n",
              "      --bg-color: #E8F0FE;\n",
              "      --fill-color: #1967D2;\n",
              "      --hover-bg-color: #E2EBFA;\n",
              "      --hover-fill-color: #174EA6;\n",
              "      --disabled-fill-color: #AAA;\n",
              "      --disabled-bg-color: #DDD;\n",
              "  }\n",
              "\n",
              "  [theme=dark] .colab-df-quickchart {\n",
              "      --bg-color: #3B4455;\n",
              "      --fill-color: #D2E3FC;\n",
              "      --hover-bg-color: #434B5C;\n",
              "      --hover-fill-color: #FFFFFF;\n",
              "      --disabled-bg-color: #3B4455;\n",
              "      --disabled-fill-color: #666;\n",
              "  }\n",
              "\n",
              "  .colab-df-quickchart {\n",
              "    background-color: var(--bg-color);\n",
              "    border: none;\n",
              "    border-radius: 50%;\n",
              "    cursor: pointer;\n",
              "    display: none;\n",
              "    fill: var(--fill-color);\n",
              "    height: 32px;\n",
              "    padding: 0;\n",
              "    width: 32px;\n",
              "  }\n",
              "\n",
              "  .colab-df-quickchart:hover {\n",
              "    background-color: var(--hover-bg-color);\n",
              "    box-shadow: 0 1px 2px rgba(60, 64, 67, 0.3), 0 1px 3px 1px rgba(60, 64, 67, 0.15);\n",
              "    fill: var(--button-hover-fill-color);\n",
              "  }\n",
              "\n",
              "  .colab-df-quickchart-complete:disabled,\n",
              "  .colab-df-quickchart-complete:disabled:hover {\n",
              "    background-color: var(--disabled-bg-color);\n",
              "    fill: var(--disabled-fill-color);\n",
              "    box-shadow: none;\n",
              "  }\n",
              "\n",
              "  .colab-df-spinner {\n",
              "    border: 2px solid var(--fill-color);\n",
              "    border-color: transparent;\n",
              "    border-bottom-color: var(--fill-color);\n",
              "    animation:\n",
              "      spin 1s steps(1) infinite;\n",
              "  }\n",
              "\n",
              "  @keyframes spin {\n",
              "    0% {\n",
              "      border-color: transparent;\n",
              "      border-bottom-color: var(--fill-color);\n",
              "      border-left-color: var(--fill-color);\n",
              "    }\n",
              "    20% {\n",
              "      border-color: transparent;\n",
              "      border-left-color: var(--fill-color);\n",
              "      border-top-color: var(--fill-color);\n",
              "    }\n",
              "    30% {\n",
              "      border-color: transparent;\n",
              "      border-left-color: var(--fill-color);\n",
              "      border-top-color: var(--fill-color);\n",
              "      border-right-color: var(--fill-color);\n",
              "    }\n",
              "    40% {\n",
              "      border-color: transparent;\n",
              "      border-right-color: var(--fill-color);\n",
              "      border-top-color: var(--fill-color);\n",
              "    }\n",
              "    60% {\n",
              "      border-color: transparent;\n",
              "      border-right-color: var(--fill-color);\n",
              "    }\n",
              "    80% {\n",
              "      border-color: transparent;\n",
              "      border-right-color: var(--fill-color);\n",
              "      border-bottom-color: var(--fill-color);\n",
              "    }\n",
              "    90% {\n",
              "      border-color: transparent;\n",
              "      border-bottom-color: var(--fill-color);\n",
              "    }\n",
              "  }\n",
              "</style>\n",
              "\n",
              "  <script>\n",
              "    async function quickchart(key) {\n",
              "      const quickchartButtonEl =\n",
              "        document.querySelector('#' + key + ' button');\n",
              "      quickchartButtonEl.disabled = true;  // To prevent multiple clicks.\n",
              "      quickchartButtonEl.classList.add('colab-df-spinner');\n",
              "      try {\n",
              "        const charts = await google.colab.kernel.invokeFunction(\n",
              "            'suggestCharts', [key], {});\n",
              "      } catch (error) {\n",
              "        console.error('Error during call to suggestCharts:', error);\n",
              "      }\n",
              "      quickchartButtonEl.classList.remove('colab-df-spinner');\n",
              "      quickchartButtonEl.classList.add('colab-df-quickchart-complete');\n",
              "    }\n",
              "    (() => {\n",
              "      let quickchartButtonEl =\n",
              "        document.querySelector('#df-38b2bac7-b2ac-45f0-9026-4a0029d8db38 button');\n",
              "      quickchartButtonEl.style.display =\n",
              "        google.colab.kernel.accessAllowed ? 'block' : 'none';\n",
              "    })();\n",
              "  </script>\n",
              "</div>\n",
              "    </div>\n",
              "  </div>\n"
            ],
            "application/vnd.google.colaboratory.intrinsic+json": {
              "type": "dataframe",
              "variable_name": "data",
              "summary": "{\n  \"name\": \"data\",\n  \"rows\": 7095,\n  \"fields\": [\n    {\n      \"column\": \"ImageId\",\n      \"properties\": {\n        \"dtype\": \"string\",\n        \"num_unique_values\": 6666,\n        \"samples\": [\n          \"0934b8bff.jpg\",\n          \"5994c3b58.jpg\",\n          \"ec52fac2d.jpg\"\n        ],\n        \"semantic_type\": \"\",\n        \"description\": \"\"\n      }\n    },\n    {\n      \"column\": \"ClassId\",\n      \"properties\": {\n        \"dtype\": \"number\",\n        \"std\": 0,\n        \"min\": 1,\n        \"max\": 4,\n        \"num_unique_values\": 4,\n        \"samples\": [\n          3,\n          2,\n          1\n        ],\n        \"semantic_type\": \"\",\n        \"description\": \"\"\n      }\n    },\n    {\n      \"column\": \"EncodedPixels\",\n      \"properties\": {\n        \"dtype\": \"string\",\n        \"num_unique_values\": 7095,\n        \"samples\": [\n          \"171129 87 171305 215 171521 255 171777 255 172034 254 172290 253 172546 253 172802 253 173059 252 173315 252 173571 252 173828 251 174084 250 174340 250 174596 250 174853 249 175109 124 309507 14 309709 50 309763 41 309867 148 310018 253 310274 253 310530 253 310786 253 311042 254 311298 254 311596 212 311937 127 312277 43 312433 112 312578 223 312834 223 313090 222 313345 223 313601 167 313857 56 352260 63 352516 188 352772 251 353028 251 353284 251 353541 250 353797 249 354053 249 354309 249 354565 249 354821 249 355077 249 355333 248 355589 248 355845 248 356102 247 356358 247 356614 247 356870 246 357126 246 357444 184 357822 62\",\n          \"313510 2 313561 1 313762 5 313816 3 313993 2 314014 7 314049 4 314071 5 314248 5 314266 9 314302 7 314325 9 314503 6 314518 11 314557 8 314580 10 314759 6 314772 11 314811 9 314835 12 315014 7 315028 10 315066 10 315090 13 315111 15 315269 8 315283 9 315320 12 315345 14 315364 20 315524 9 315539 7 315574 14 315599 17 315617 26 315761 2 315781 7 315794 6 315827 16 315853 48 316015 3 316038 6 316050 7 316081 18 316106 53 316269 5 316295 5 316305 9 316336 19 316360 55 316523 6 316553 3 316561 9 316590 21 316613 58 316777 8 316800 1 316810 2 316816 11 316844 22 316867 60 317031 9 317054 2 317067 1 317072 12 317099 84 317285 10 317308 4 317328 13 317353 86 317540 11 317563 4 317585 13 317608 74 317684 11 317796 10 317817 6 317841 13 317861 75 317942 10 318053 9 318071 7 318098 13 318116 74 318199 9 318309 8 318326 7 318354 14 318372 72 318457 7 318566 7 318582 7 318611 12 318627 73 318714 6 318822 6 318839 5 318867 12 318883 73 318971 5 319078 5 319095 4 319123 11 319139 61 319207 4 319229 3 319335 4 319351 4 319379 10 319394 58 319486 2 319591 3 319607 3 319635 10 319648 58 319848 2 319864 2 319891 9 319902 52 319955 6 320104 1 320147 8 320156 52 320403 59 320658 58 320903 5 320914 49 320967 3 321158 7 321170 49 321413 9 321425 49 321668 11 321681 49 321923 13 321937 49 322178 43 322226 16 322434 34 322470 6 322487 11 322689 31 322727 5 322745 9 322946 27 322983 3 323002 9 323203 24 323260 7 323460 21 323708 30 323963 31 324217 34 324472 35 324728 36 324985 35 325245 32 325504 27 325766 17 326030 6 346463 4 346719 10 346976 12 347232 13 347488 15 347545 1 347745 15 347800 4 348001 16 348055 7 348261 14 348310 8 348520 12 348565 9 348776 13 348820 11 349032 10 349075 12 349288 6 349330 14 349544 2 349585 15 349840 17 350097 16 350354 15 350611 7 350620 6 350868 6 350878 4 351125 5 351136 2 351382 4\",\n          \"307601 6 307850 18 308033 1 308057 2 308099 30 308287 3 308311 6 308348 42 308542 4 308564 8 308599 52 308796 7 308817 10 308853 58 309050 9 309071 11 309107 63 309305 10 309324 13 309361 68 309542 1 309559 12 309578 14 309615 73 309796 4 309814 14 309831 16 309869 79 310051 5 310068 16 310085 17 310123 84 310305 8 310323 34 310377 89 310560 9 310577 35 310631 94 310814 12 310831 36 310885 101 311069 14 311086 36 311139 103 311323 16 311340 37 311393 105 311578 55 311647 108 311832 61 311901 110 312087 65 312155 112 312341 181 312596 182 312852 181 313108 181 313364 180 313620 26 313648 102 313751 47 313876 21 313905 100 314009 43 314132 16 314161 99 314267 39 314389 12 314418 97 314525 4 314535 23 314645 11 314674 96 314799 9 314901 10 314929 96 315157 8 315183 97 315413 7 315438 97 315669 1 315671 4 315693 96 315928 2 315948 93 316203 90 316457 89 316712 86 316967 84 317221 84 317475 84 317728 85 317982 83 318236 62 318301 17 318492 62 318565 5 318748 62 319005 60 319261 57 319517 54 319774 51 320030 48 320287 44 320543 41 320801 36 321061 29 321321 22 321580 17 321848 2 340752 2 341008 4 341263 8 341519 10 341775 13 341838 1 342030 16 342093 3 342286 18 342349 3 342542 21 342604 5 342797 24 342859 7 343053 27 343114 8 343309 29 343370 9 343564 31 343625 11 343820 31 343880 12 344076 29 344135 14 344331 29 344391 15 344587 28 344646 16 344842 27 344901 18 345098 26 345156 20 345354 25 345412 20 345609 24 345667 22 345865 23 345924 19 346121 21 346181 16 346376 21 346438 13 346632 20 346695 10 346888 18 346952 7 347144 17 347209 4 347399 17 347466 1 347657 13 347915 10 348174 6 348432 2\"\n        ],\n        \"semantic_type\": \"\",\n        \"description\": \"\"\n      }\n    }\n  ]\n}"
            }
          },
          "metadata": {},
          "execution_count": 4
        }
      ],
      "source": [
        "data"
      ]
    },
    {
      "cell_type": "code",
      "execution_count": null,
      "id": "f39b0a66",
      "metadata": {
        "execution": {
          "iopub.execute_input": "2023-12-27T07:58:32.616794Z",
          "iopub.status.busy": "2023-12-27T07:58:32.616340Z",
          "iopub.status.idle": "2023-12-27T07:58:32.623942Z",
          "shell.execute_reply": "2023-12-27T07:58:32.622794Z"
        },
        "id": "f39b0a66",
        "outputId": "0889ef39-ee7c-4249-f480-9086191059e5",
        "papermill": {
          "duration": 0.031501,
          "end_time": "2023-12-27T07:58:32.626691",
          "exception": false,
          "start_time": "2023-12-27T07:58:32.595190",
          "status": "completed"
        },
        "tags": [],
        "colab": {
          "base_uri": "https://localhost:8080/"
        }
      },
      "outputs": [
        {
          "output_type": "execute_result",
          "data": {
            "text/plain": [
              "(7095, 3)"
            ]
          },
          "metadata": {},
          "execution_count": 5
        }
      ],
      "source": [
        "data.shape"
      ]
    },
    {
      "cell_type": "markdown",
      "id": "f7f7af73",
      "metadata": {
        "id": "f7f7af73",
        "papermill": {
          "duration": 0.018928,
          "end_time": "2023-12-27T07:58:32.664844",
          "exception": false,
          "start_time": "2023-12-27T07:58:32.645916",
          "status": "completed"
        },
        "tags": []
      },
      "source": [
        "У нас 7095 и три фичи"
      ]
    },
    {
      "cell_type": "markdown",
      "id": "75f32651",
      "metadata": {
        "papermill": {
          "duration": 0.018225,
          "end_time": "2023-12-27T07:58:32.702265",
          "exception": false,
          "start_time": "2023-12-27T07:58:32.684040",
          "status": "completed"
        },
        "tags": [],
        "id": "75f32651"
      },
      "source": [
        "# Разведочный анализ данных"
      ]
    },
    {
      "cell_type": "code",
      "execution_count": null,
      "id": "3fff6247",
      "metadata": {
        "execution": {
          "iopub.execute_input": "2023-12-27T07:58:32.741246Z",
          "iopub.status.busy": "2023-12-27T07:58:32.740796Z",
          "iopub.status.idle": "2023-12-27T07:58:33.057012Z",
          "shell.execute_reply": "2023-12-27T07:58:33.055641Z"
        },
        "id": "3fff6247",
        "outputId": "fedff471-46ab-4342-dbeb-955148f94c80",
        "papermill": {
          "duration": 0.338863,
          "end_time": "2023-12-27T07:58:33.059660",
          "exception": false,
          "start_time": "2023-12-27T07:58:32.720797",
          "status": "completed"
        },
        "tags": [],
        "colab": {
          "base_uri": "https://localhost:8080/",
          "height": 512
        }
      },
      "outputs": [
        {
          "output_type": "execute_result",
          "data": {
            "text/plain": [
              "3    5150\n",
              "1     897\n",
              "4     801\n",
              "2     247\n",
              "Name: ClassId, dtype: int64"
            ]
          },
          "metadata": {},
          "execution_count": 6
        },
        {
          "output_type": "display_data",
          "data": {
            "text/plain": [
              "<Figure size 640x480 with 1 Axes>"
            ],
            "image/png": "[encoded data removed]"
          },
          "metadata": {}
        }
      ],
      "source": [
        "data[\"ClassId\"].value_counts().plot(kind = 'bar')\n",
        "data[\"ClassId\"].value_counts()"
      ]
    },
    {
      "cell_type": "markdown",
      "id": "3fd99fbf",
      "metadata": {
        "id": "3fd99fbf",
        "papermill": {
          "duration": 0.020298,
          "end_time": "2023-12-27T07:58:33.100233",
          "exception": false,
          "start_time": "2023-12-27T07:58:33.079935",
          "status": "completed"
        },
        "tags": []
      },
      "source": [
        "больше всего меток третьего класса"
      ]
    },
    {
      "cell_type": "markdown",
      "id": "a421804b",
      "metadata": {
        "id": "a421804b",
        "papermill": {
          "duration": 0.018802,
          "end_time": "2023-12-27T07:58:33.209247",
          "exception": false,
          "start_time": "2023-12-27T07:58:33.190445",
          "status": "completed"
        },
        "tags": []
      },
      "source": [
        "Перекос данных, поэтому выполним аугментацию."
      ]
    },
    {
      "cell_type": "code",
      "execution_count": null,
      "id": "a809c033",
      "metadata": {
        "execution": {
          "iopub.execute_input": "2023-12-27T07:58:33.250243Z",
          "iopub.status.busy": "2023-12-27T07:58:33.249819Z",
          "iopub.status.idle": "2023-12-27T07:58:33.543991Z",
          "shell.execute_reply": "2023-12-27T07:58:33.542655Z"
        },
        "papermill": {
          "duration": 0.31779,
          "end_time": "2023-12-27T07:58:33.546794",
          "exception": false,
          "start_time": "2023-12-27T07:58:33.229004",
          "status": "completed"
        },
        "tags": [],
        "id": "a809c033"
      },
      "outputs": [],
      "source": [
        "import cv2"
      ]
    },
    {
      "cell_type": "code",
      "source": [
        "!unzip \"train_images.zip\" -d \"train_images\""
      ],
      "metadata": {
        "id": "LNkBHpvSw_nZ"
      },
      "id": "LNkBHpvSw_nZ",
      "execution_count": null,
      "outputs": []
    },
    {
      "cell_type": "code",
      "execution_count": null,
      "id": "ba3ddab1",
      "metadata": {
        "execution": {
          "iopub.execute_input": "2023-12-27T07:58:33.590572Z",
          "iopub.status.busy": "2023-12-27T07:58:33.589355Z",
          "iopub.status.idle": "2023-12-27T08:00:57.051069Z",
          "shell.execute_reply": "2023-12-27T08:00:57.049743Z"
        },
        "id": "ba3ddab1",
        "outputId": "3bb4214c-5116-489e-8347-cf3307e042a3",
        "papermill": {
          "duration": 143.487801,
          "end_time": "2023-12-27T08:00:57.054617",
          "exception": false,
          "start_time": "2023-12-27T07:58:33.566816",
          "status": "completed"
        },
        "tags": [],
        "colab": {
          "base_uri": "https://localhost:8080/"
        }
      },
      "outputs": [
        {
          "output_type": "stream",
          "name": "stderr",
          "text": [
            "100%|██████████| 7095/7095 [00:00<00:00, 7547.32it/s]\n"
          ]
        }
      ],
      "source": [
        "l1=[]\n",
        "l2=[]\n",
        "for img,ClassId,EncodedPixels in tqdm(data.values):\n",
        "    try:\n",
        "      image=cv2.imread(\"train_images/{}\".format(img),cv2.IMREAD_COLOR)\n",
        "      image = cv2.resize(image,(120,120))\n",
        "      l1.append(image)\n",
        "      l2.append(ClassId)\n",
        "    except:\n",
        "      continue\n",
        "\n",
        "\n",
        "\n"
      ]
    },
    {
      "cell_type": "code",
      "source": [
        "l1[0]"
      ],
      "metadata": {
        "colab": {
          "base_uri": "https://localhost:8080/",
          "height": 161
        },
        "id": "i74URcRWV1Qu",
        "outputId": "6496bcb9-ac87-4416-9ccf-1096747732d0"
      },
      "id": "i74URcRWV1Qu",
      "execution_count": null,
      "outputs": [
        {
          "output_type": "execute_result",
          "data": {
            "text/plain": [
              "array([[[  2,   2,   2],\n",
              "        [  1,   1,   1],\n",
              "        [  2,   2,   2],\n",
              "        ...,\n",
              "        [ 74,  74,  74],\n",
              "        [ 60,  60,  60],\n",
              "        [ 64,  64,  64]],\n",
              "\n",
              "       [[  2,   2,   2],\n",
              "        [  1,   1,   1],\n",
              "        [  2,   2,   2],\n",
              "        ...,\n",
              "        [ 73,  73,  73],\n",
              "        [ 66,  66,  66],\n",
              "        [ 65,  65,  65]],\n",
              "\n",
              "       [[  1,   1,   1],\n",
              "        [  1,   1,   1],\n",
              "        [  2,   2,   2],\n",
              "        ...,\n",
              "        [ 75,  75,  75],\n",
              "        [ 65,  65,  65],\n",
              "        [ 61,  61,  61]],\n",
              "\n",
              "       ...,\n",
              "\n",
              "       [[  1,   1,   1],\n",
              "        [  1,   1,   1],\n",
              "        [  1,   1,   1],\n",
              "        ...,\n",
              "        [114, 114, 114],\n",
              "        [114, 114, 114],\n",
              "        [105, 105, 105]],\n",
              "\n",
              "       [[  1,   1,   1],\n",
              "        [  1,   1,   1],\n",
              "        [  1,   1,   1],\n",
              "        ...,\n",
              "        [112, 112, 112],\n",
              "        [109, 109, 109],\n",
              "        [108, 108, 108]],\n",
              "\n",
              "       [[  1,   1,   1],\n",
              "        [  1,   1,   1],\n",
              "        [  1,   1,   1],\n",
              "        ...,\n",
              "        [117, 117, 117],\n",
              "        [109, 109, 109],\n",
              "        [109, 109, 109]]], dtype=uint8)"
            ],
            "text/html": [
              "<style>\n",
              "      .ndarray_repr .ndarray_raw_data {\n",
              "        display: none;\n",
              "      }\n",
              "      .ndarray_repr.show_array .ndarray_raw_data {\n",
              "        display: block;\n",
              "      }\n",
              "      .ndarray_repr.show_array .ndarray_image_preview {\n",
              "        display: none;\n",
              "      }\n",
              "      </style>\n",
              "      <div id=\"id-4f3c914b-882c-4297-bd43-71991673fa2c\" class=\"ndarray_repr\"><pre>ndarray (120, 120, 3) <button style=\"padding: 0 2px;\">show data</button></pre><img src=\"data:image/png;base64,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\" class=\"ndarray_image_preview\" /><pre class=\"ndarray_raw_data\">array([[[  2,   2,   2],\n",
              "        [  1,   1,   1],\n",
              "        [  2,   2,   2],\n",
              "        ...,\n",
              "        [ 74,  74,  74],\n",
              "        [ 60,  60,  60],\n",
              "        [ 64,  64,  64]],\n",
              "\n",
              "       [[  2,   2,   2],\n",
              "        [  1,   1,   1],\n",
              "        [  2,   2,   2],\n",
              "        ...,\n",
              "        [ 73,  73,  73],\n",
              "        [ 66,  66,  66],\n",
              "        [ 65,  65,  65]],\n",
              "\n",
              "       [[  1,   1,   1],\n",
              "        [  1,   1,   1],\n",
              "        [  2,   2,   2],\n",
              "        ...,\n",
              "        [ 75,  75,  75],\n",
              "        [ 65,  65,  65],\n",
              "        [ 61,  61,  61]],\n",
              "\n",
              "       ...,\n",
              "\n",
              "       [[  1,   1,   1],\n",
              "        [  1,   1,   1],\n",
              "        [  1,   1,   1],\n",
              "        ...,\n",
              "        [114, 114, 114],\n",
              "        [114, 114, 114],\n",
              "        [105, 105, 105]],\n",
              "\n",
              "       [[  1,   1,   1],\n",
              "        [  1,   1,   1],\n",
              "        [  1,   1,   1],\n",
              "        ...,\n",
              "        [112, 112, 112],\n",
              "        [109, 109, 109],\n",
              "        [108, 108, 108]],\n",
              "\n",
              "       [[  1,   1,   1],\n",
              "        [  1,   1,   1],\n",
              "        [  1,   1,   1],\n",
              "        ...,\n",
              "        [117, 117, 117],\n",
              "        [109, 109, 109],\n",
              "        [109, 109, 109]]], dtype=uint8)</pre></div><script>\n",
              "      (() => {\n",
              "      const titles = ['show data', 'hide data'];\n",
              "      let index = 0\n",
              "      document.querySelector('#id-4f3c914b-882c-4297-bd43-71991673fa2c button').onclick = (e) => {\n",
              "        document.querySelector('#id-4f3c914b-882c-4297-bd43-71991673fa2c').classList.toggle('show_array');\n",
              "        index = (++index) % 2;\n",
              "        document.querySelector('#id-4f3c914b-882c-4297-bd43-71991673fa2c button').textContent = titles[index];\n",
              "        e.preventDefault();\n",
              "        e.stopPropagation();\n",
              "      }\n",
              "      })();\n",
              "    </script>"
            ]
          },
          "metadata": {},
          "execution_count": 85
        }
      ]
    },
    {
      "cell_type": "code",
      "source": [
        "len(l1)"
      ],
      "metadata": {
        "colab": {
          "base_uri": "https://localhost:8080/"
        },
        "id": "ME6YazOYVwVc",
        "outputId": "ea004510-e729-49fd-fee8-16fda7fce413"
      },
      "id": "ME6YazOYVwVc",
      "execution_count": null,
      "outputs": [
        {
          "output_type": "execute_result",
          "data": {
            "text/plain": [
              "351"
            ]
          },
          "metadata": {},
          "execution_count": 8
        }
      ]
    },
    {
      "cell_type": "markdown",
      "id": "df14915d",
      "metadata": {
        "id": "df14915d",
        "papermill": {
          "duration": 0.132188,
          "end_time": "2023-12-27T08:00:57.319307",
          "exception": false,
          "start_time": "2023-12-27T08:00:57.187119",
          "status": "completed"
        },
        "tags": []
      },
      "source": [
        "Проверка изображений случайной стали, чтобы проверить, дефектна ли она или нет."
      ]
    },
    {
      "cell_type": "code",
      "execution_count": null,
      "id": "5ff4bb36",
      "metadata": {
        "execution": {
          "iopub.execute_input": "2023-12-27T08:00:57.585112Z",
          "iopub.status.busy": "2023-12-27T08:00:57.584165Z",
          "iopub.status.idle": "2023-12-27T08:00:57.881532Z",
          "shell.execute_reply": "2023-12-27T08:00:57.879769Z"
        },
        "id": "5ff4bb36",
        "outputId": "79ee8b18-8eb6-44d5-d0d0-58309b369a9c",
        "papermill": {
          "duration": 0.43324,
          "end_time": "2023-12-27T08:00:57.884590",
          "exception": false,
          "start_time": "2023-12-27T08:00:57.451350",
          "status": "completed"
        },
        "tags": [],
        "colab": {
          "base_uri": "https://localhost:8080/",
          "height": 451
        }
      },
      "outputs": [
        {
          "output_type": "execute_result",
          "data": {
            "text/plain": [
              "<matplotlib.image.AxesImage at 0x7ebebb9ee200>"
            ]
          },
          "metadata": {},
          "execution_count": 87
        },
        {
          "output_type": "display_data",
          "data": {
            "text/plain": [
              "<Figure size 640x480 with 1 Axes>"
            ],
            "image/png": "[encoded data removed]"
          },
          "metadata": {}
        }
      ],
      "source": [
        "i = 15\n",
        "plt.imshow(l1[i])"
      ]
    },
    {
      "cell_type": "code",
      "execution_count": null,
      "id": "9c338730",
      "metadata": {
        "execution": {
          "iopub.execute_input": "2023-12-27T08:00:58.157772Z",
          "iopub.status.busy": "2023-12-27T08:00:58.157022Z",
          "iopub.status.idle": "2023-12-27T08:00:58.449520Z",
          "shell.execute_reply": "2023-12-27T08:00:58.448051Z"
        },
        "id": "9c338730",
        "outputId": "a7765bf1-fef9-4b0d-ffbf-60b532e39de5",
        "papermill": {
          "duration": 0.431639,
          "end_time": "2023-12-27T08:00:58.452414",
          "exception": false,
          "start_time": "2023-12-27T08:00:58.020775",
          "status": "completed"
        },
        "tags": [],
        "colab": {
          "base_uri": "https://localhost:8080/",
          "height": 451
        }
      },
      "outputs": [
        {
          "output_type": "execute_result",
          "data": {
            "text/plain": [
              "<matplotlib.image.AxesImage at 0x7ebebb8493f0>"
            ]
          },
          "metadata": {},
          "execution_count": 88
        },
        {
          "output_type": "display_data",
          "data": {
            "text/plain": [
              "<Figure size 640x480 with 1 Axes>"
            ],
            "image/png": "[encoded data removed]"
          },
          "metadata": {}
        }
      ],
      "source": [
        "i = 16\n",
        "plt.imshow(l1[i])"
      ]
    },
    {
      "cell_type": "code",
      "execution_count": null,
      "id": "45823572",
      "metadata": {
        "execution": {
          "iopub.execute_input": "2023-12-27T08:00:58.730080Z",
          "iopub.status.busy": "2023-12-27T08:00:58.729639Z",
          "iopub.status.idle": "2023-12-27T08:00:59.042311Z",
          "shell.execute_reply": "2023-12-27T08:00:59.040805Z"
        },
        "id": "45823572",
        "outputId": "73c5421d-5f1a-4b50-ffac-cbf7a669d75a",
        "papermill": {
          "duration": 0.451892,
          "end_time": "2023-12-27T08:00:59.045280",
          "exception": false,
          "start_time": "2023-12-27T08:00:58.593388",
          "status": "completed"
        },
        "tags": [],
        "colab": {
          "base_uri": "https://localhost:8080/",
          "height": 451
        }
      },
      "outputs": [
        {
          "output_type": "execute_result",
          "data": {
            "text/plain": [
              "<matplotlib.image.AxesImage at 0x7ebebb9d3460>"
            ]
          },
          "metadata": {},
          "execution_count": 89
        },
        {
          "output_type": "display_data",
          "data": {
            "text/plain": [
              "<Figure size 640x480 with 1 Axes>"
            ],
            "image/png": "[encoded data removed]"
          },
          "metadata": {}
        }
      ],
      "source": [
        "i = 90\n",
        "plt.imshow(l1[i])"
      ]
    },
    {
      "cell_type": "markdown",
      "id": "a6f435aa",
      "metadata": {
        "id": "a6f435aa",
        "papermill": {
          "duration": 0.136756,
          "end_time": "2023-12-27T08:00:59.323882",
          "exception": false,
          "start_time": "2023-12-27T08:00:59.187126",
          "status": "completed"
        },
        "tags": []
      },
      "source": [
        "Выполним one-hot кодировку"
      ]
    },
    {
      "cell_type": "code",
      "execution_count": null,
      "id": "81f124da",
      "metadata": {
        "execution": {
          "iopub.execute_input": "2023-12-27T08:00:59.599601Z",
          "iopub.status.busy": "2023-12-27T08:00:59.599181Z",
          "iopub.status.idle": "2023-12-27T08:01:00.890780Z",
          "shell.execute_reply": "2023-12-27T08:01:00.889348Z"
        },
        "id": "81f124da",
        "papermill": {
          "duration": 1.43355,
          "end_time": "2023-12-27T08:01:00.894914",
          "exception": false,
          "start_time": "2023-12-27T08:00:59.461364",
          "status": "completed"
        },
        "tags": []
      },
      "outputs": [],
      "source": [
        "encoder = LabelEncoder()\n",
        "\n",
        "X= np.array(l1)\n",
        "X = X/255\n",
        "\n",
        "y = encoder.fit_transform(l2)\n",
        "y = np.array(y)\n"
      ]
    },
    {
      "cell_type": "code",
      "execution_count": null,
      "id": "93b1d0a5",
      "metadata": {
        "execution": {
          "iopub.execute_input": "2023-12-27T08:01:01.169527Z",
          "iopub.status.busy": "2023-12-27T08:01:01.169035Z",
          "iopub.status.idle": "2023-12-27T08:01:01.177267Z",
          "shell.execute_reply": "2023-12-27T08:01:01.175761Z"
        },
        "id": "93b1d0a5",
        "outputId": "868b79cf-d291-44b6-9afe-f1377c0640bc",
        "papermill": {
          "duration": 0.14769,
          "end_time": "2023-12-27T08:01:01.180002",
          "exception": false,
          "start_time": "2023-12-27T08:01:01.032312",
          "status": "completed"
        },
        "tags": [],
        "colab": {
          "base_uri": "https://localhost:8080/"
        }
      },
      "outputs": [
        {
          "output_type": "execute_result",
          "data": {
            "text/plain": [
              "(351, 120, 120, 3)"
            ]
          },
          "metadata": {},
          "execution_count": 91
        }
      ],
      "source": [
        "X.shape"
      ]
    },
    {
      "cell_type": "code",
      "execution_count": null,
      "id": "98c090df",
      "metadata": {
        "execution": {
          "iopub.execute_input": "2023-12-27T08:01:01.461353Z",
          "iopub.status.busy": "2023-12-27T08:01:01.460595Z",
          "iopub.status.idle": "2023-12-27T08:01:01.466671Z",
          "shell.execute_reply": "2023-12-27T08:01:01.465747Z"
        },
        "id": "98c090df",
        "outputId": "1eb9be42-0029-439b-e0f8-33e590c501b1",
        "papermill": {
          "duration": 0.150333,
          "end_time": "2023-12-27T08:01:01.469359",
          "exception": false,
          "start_time": "2023-12-27T08:01:01.319026",
          "status": "completed"
        },
        "tags": [],
        "colab": {
          "base_uri": "https://localhost:8080/"
        }
      },
      "outputs": [
        {
          "output_type": "execute_result",
          "data": {
            "text/plain": [
              "(351,)"
            ]
          },
          "metadata": {},
          "execution_count": 92
        }
      ],
      "source": [
        "y.shape"
      ]
    },
    {
      "cell_type": "markdown",
      "id": "1a0b3372",
      "metadata": {
        "papermill": {
          "duration": 0.136272,
          "end_time": "2023-12-27T08:01:01.744432",
          "exception": false,
          "start_time": "2023-12-27T08:01:01.608160",
          "status": "completed"
        },
        "tags": [],
        "id": "1a0b3372"
      },
      "source": [
        "# Борьба с дибалансом"
      ]
    },
    {
      "cell_type": "markdown",
      "id": "769105bb",
      "metadata": {
        "id": "769105bb",
        "papermill": {
          "duration": 0.14797,
          "end_time": "2023-12-27T08:01:02.036069",
          "exception": false,
          "start_time": "2023-12-27T08:01:01.888099",
          "status": "completed"
        },
        "tags": []
      },
      "source": [
        "для борьбы с дисбалансом выполним случайное сэмплирование"
      ]
    },
    {
      "cell_type": "code",
      "execution_count": null,
      "id": "4f7abc9c",
      "metadata": {
        "execution": {
          "iopub.execute_input": "2023-12-27T08:01:02.319207Z",
          "iopub.status.busy": "2023-12-27T08:01:02.318230Z",
          "iopub.status.idle": "2023-12-27T08:01:09.767551Z",
          "shell.execute_reply": "2023-12-27T08:01:09.766207Z"
        },
        "id": "4f7abc9c",
        "papermill": {
          "duration": 7.594365,
          "end_time": "2023-12-27T08:01:09.770811",
          "exception": false,
          "start_time": "2023-12-27T08:01:02.176446",
          "status": "completed"
        },
        "tags": []
      },
      "outputs": [],
      "source": [
        "from imblearn.over_sampling import RandomOverSampler\n",
        "reshaped_X = X.reshape(X.shape[0],-1)\n",
        "oversample = RandomOverSampler(sampling_strategy='not majority')\n",
        "X, y  = oversample.fit_resample(reshaped_X , y)\n",
        "X = X.reshape(-1,120,120,3)"
      ]
    },
    {
      "cell_type": "code",
      "execution_count": null,
      "id": "5dba4964",
      "metadata": {
        "execution": {
          "iopub.execute_input": "2023-12-27T08:01:10.047048Z",
          "iopub.status.busy": "2023-12-27T08:01:10.046130Z",
          "iopub.status.idle": "2023-12-27T08:01:10.053975Z",
          "shell.execute_reply": "2023-12-27T08:01:10.052815Z"
        },
        "id": "5dba4964",
        "papermill": {
          "duration": 0.148206,
          "end_time": "2023-12-27T08:01:10.056220",
          "exception": false,
          "start_time": "2023-12-27T08:01:09.908014",
          "status": "completed"
        },
        "tags": [],
        "outputId": "38705152-da46-439f-bd3c-24299894310d",
        "colab": {
          "base_uri": "https://localhost:8080/"
        }
      },
      "outputs": [
        {
          "output_type": "execute_result",
          "data": {
            "text/plain": [
              "(984, 120, 120, 3)"
            ]
          },
          "metadata": {},
          "execution_count": 94
        }
      ],
      "source": [
        "X.shape"
      ]
    },
    {
      "cell_type": "code",
      "execution_count": null,
      "id": "82f990f1",
      "metadata": {
        "execution": {
          "iopub.execute_input": "2023-12-27T08:01:10.341950Z",
          "iopub.status.busy": "2023-12-27T08:01:10.341061Z",
          "iopub.status.idle": "2023-12-27T08:01:10.347346Z",
          "shell.execute_reply": "2023-12-27T08:01:10.346187Z"
        },
        "id": "82f990f1",
        "papermill": {
          "duration": 0.155158,
          "end_time": "2023-12-27T08:01:10.352293",
          "exception": false,
          "start_time": "2023-12-27T08:01:10.197135",
          "status": "completed"
        },
        "tags": []
      },
      "outputs": [],
      "source": [
        "\n",
        "y = to_categorical(y)"
      ]
    },
    {
      "cell_type": "code",
      "execution_count": null,
      "id": "b9b77751",
      "metadata": {
        "execution": {
          "iopub.execute_input": "2023-12-27T08:01:10.639215Z",
          "iopub.status.busy": "2023-12-27T08:01:10.638332Z",
          "iopub.status.idle": "2023-12-27T08:01:10.646593Z",
          "shell.execute_reply": "2023-12-27T08:01:10.645358Z"
        },
        "id": "b9b77751",
        "papermill": {
          "duration": 0.14752,
          "end_time": "2023-12-27T08:01:10.649122",
          "exception": false,
          "start_time": "2023-12-27T08:01:10.501602",
          "status": "completed"
        },
        "tags": [],
        "outputId": "8e727b6d-bec9-4807-debc-3ff09885bbd9",
        "colab": {
          "base_uri": "https://localhost:8080/"
        }
      },
      "outputs": [
        {
          "output_type": "execute_result",
          "data": {
            "text/plain": [
              "array([[0., 0., 1., 0.],\n",
              "       [0., 0., 1., 0.],\n",
              "       [0., 0., 1., 0.],\n",
              "       ...,\n",
              "       [0., 0., 0., 1.],\n",
              "       [0., 0., 0., 1.],\n",
              "       [0., 0., 0., 1.]], dtype=float32)"
            ]
          },
          "metadata": {},
          "execution_count": 96
        }
      ],
      "source": [
        "y"
      ]
    },
    {
      "cell_type": "markdown",
      "id": "c94d3a08",
      "metadata": {
        "id": "c94d3a08",
        "papermill": {
          "duration": 0.134311,
          "end_time": "2023-12-27T08:01:10.918364",
          "exception": false,
          "start_time": "2023-12-27T08:01:10.784053",
          "status": "completed"
        },
        "tags": []
      },
      "source": [
        "разделим на тренировку и валидацию"
      ]
    },
    {
      "cell_type": "code",
      "execution_count": null,
      "id": "5bbbf275",
      "metadata": {
        "execution": {
          "iopub.execute_input": "2023-12-27T08:01:11.189911Z",
          "iopub.status.busy": "2023-12-27T08:01:11.189280Z",
          "iopub.status.idle": "2023-12-27T08:01:13.706235Z",
          "shell.execute_reply": "2023-12-27T08:01:13.705019Z"
        },
        "id": "5bbbf275",
        "papermill": {
          "duration": 2.656345,
          "end_time": "2023-12-27T08:01:13.709223",
          "exception": false,
          "start_time": "2023-12-27T08:01:11.052878",
          "status": "completed"
        },
        "tags": []
      },
      "outputs": [],
      "source": [
        "X_train,X_test,y_train,y_test=train_test_split(X,y,test_size=0.2,stratify=y,shuffle=True)"
      ]
    },
    {
      "cell_type": "code",
      "execution_count": null,
      "id": "31d03f4b",
      "metadata": {
        "execution": {
          "iopub.execute_input": "2023-12-27T08:01:13.986248Z",
          "iopub.status.busy": "2023-12-27T08:01:13.985218Z",
          "iopub.status.idle": "2023-12-27T08:01:13.994360Z",
          "shell.execute_reply": "2023-12-27T08:01:13.992865Z"
        },
        "id": "31d03f4b",
        "papermill": {
          "duration": 0.150417,
          "end_time": "2023-12-27T08:01:13.997024",
          "exception": false,
          "start_time": "2023-12-27T08:01:13.846607",
          "status": "completed"
        },
        "tags": [],
        "outputId": "82555019-2bd4-4d73-c829-0ed3f891ff8e",
        "colab": {
          "base_uri": "https://localhost:8080/"
        }
      },
      "outputs": [
        {
          "output_type": "stream",
          "name": "stdout",
          "text": [
            "x_train размер: (787, 120, 120, 3)\n",
            "x_test размер: (197, 120, 120, 3)\n",
            "y_train размер: (787, 4)\n",
            "y_test размер: (197, 4)\n"
          ]
        }
      ],
      "source": [
        "print(\"x_train размер:\",X_train.shape)\n",
        "print(\"x_test размер:\",X_test.shape)\n",
        "print(\"y_train размер:\",y_train.shape)\n",
        "print(\"y_test размер:\",y_test.shape)"
      ]
    },
    {
      "cell_type": "markdown",
      "id": "ffbc28a1",
      "metadata": {
        "papermill": {
          "duration": 0.136133,
          "end_time": "2023-12-27T08:01:14.269545",
          "exception": false,
          "start_time": "2023-12-27T08:01:14.133412",
          "status": "completed"
        },
        "tags": [],
        "id": "ffbc28a1"
      },
      "source": [
        "# Построение нейронной сети  в 3 слоя и график обучения"
      ]
    },
    {
      "cell_type": "code",
      "execution_count": null,
      "id": "18324b25",
      "metadata": {
        "execution": {
          "iopub.execute_input": "2023-12-27T08:01:14.554647Z",
          "iopub.status.busy": "2023-12-27T08:01:14.553689Z",
          "iopub.status.idle": "2023-12-27T08:01:14.778415Z",
          "shell.execute_reply": "2023-12-27T08:01:14.777165Z"
        },
        "papermill": {
          "duration": 0.370854,
          "end_time": "2023-12-27T08:01:14.781588",
          "exception": false,
          "start_time": "2023-12-27T08:01:14.410734",
          "status": "completed"
        },
        "tags": [],
        "id": "18324b25"
      },
      "outputs": [],
      "source": [
        "model=Sequential()\n",
        "model.add(Conv2D(32,(3,3),input_shape=(120,120,3),activation=\"relu\"))\n",
        "model.add(Flatten())\n",
        "model.add(Dense(4,activation=\"softmax\"))"
      ]
    },
    {
      "cell_type": "code",
      "execution_count": null,
      "id": "23f55887",
      "metadata": {
        "execution": {
          "iopub.execute_input": "2023-12-27T08:01:15.065695Z",
          "iopub.status.busy": "2023-12-27T08:01:15.064910Z",
          "iopub.status.idle": "2023-12-27T08:01:15.088258Z",
          "shell.execute_reply": "2023-12-27T08:01:15.086840Z"
        },
        "papermill": {
          "duration": 0.167666,
          "end_time": "2023-12-27T08:01:15.091483",
          "exception": false,
          "start_time": "2023-12-27T08:01:14.923817",
          "status": "completed"
        },
        "tags": [],
        "id": "23f55887"
      },
      "outputs": [],
      "source": [
        "model.compile(loss=keras.losses.categorical_crossentropy,\n",
        "             optimizer=keras.optimizers.Adam(),\n",
        "             metrics=[\"accuracy\"])"
      ]
    },
    {
      "cell_type": "code",
      "execution_count": null,
      "id": "420d064c",
      "metadata": {
        "execution": {
          "iopub.execute_input": "2023-12-27T08:01:15.373333Z",
          "iopub.status.busy": "2023-12-27T08:01:15.372864Z",
          "iopub.status.idle": "2023-12-27T08:15:45.670071Z",
          "shell.execute_reply": "2023-12-27T08:15:45.667569Z"
        },
        "papermill": {
          "duration": 870.443272,
          "end_time": "2023-12-27T08:15:45.674143",
          "exception": false,
          "start_time": "2023-12-27T08:01:15.230871",
          "status": "completed"
        },
        "tags": [],
        "id": "420d064c",
        "outputId": "e851649d-4b8f-405a-bb41-0d334a9f70aa",
        "colab": {
          "base_uri": "https://localhost:8080/"
        }
      },
      "outputs": [
        {
          "output_type": "stream",
          "name": "stdout",
          "text": [
            "Epoch 1/10\n",
            "7/7 [==============================] - 4s 116ms/step - loss: 7.5542 - accuracy: 0.3011 - val_loss: 9.3762 - val_accuracy: 0.3756\n",
            "Epoch 2/10\n",
            "7/7 [==============================] - 0s 40ms/step - loss: 6.3471 - accuracy: 0.3926 - val_loss: 2.6650 - val_accuracy: 0.3909\n",
            "Epoch 3/10\n",
            "7/7 [==============================] - 0s 39ms/step - loss: 2.1918 - accuracy: 0.4346 - val_loss: 0.9967 - val_accuracy: 0.6548\n",
            "Epoch 4/10\n",
            "7/7 [==============================] - 0s 36ms/step - loss: 0.8327 - accuracy: 0.6582 - val_loss: 0.7742 - val_accuracy: 0.7817\n",
            "Epoch 5/10\n",
            "7/7 [==============================] - 0s 36ms/step - loss: 0.6668 - accuracy: 0.7980 - val_loss: 0.7042 - val_accuracy: 0.7411\n",
            "Epoch 6/10\n",
            "7/7 [==============================] - 0s 39ms/step - loss: 0.5809 - accuracy: 0.8399 - val_loss: 0.6290 - val_accuracy: 0.7970\n",
            "Epoch 7/10\n",
            "7/7 [==============================] - 0s 39ms/step - loss: 0.4673 - accuracy: 0.8602 - val_loss: 0.5925 - val_accuracy: 0.7411\n",
            "Epoch 8/10\n",
            "7/7 [==============================] - 0s 37ms/step - loss: 0.3754 - accuracy: 0.8831 - val_loss: 0.4958 - val_accuracy: 0.8274\n",
            "Epoch 9/10\n",
            "7/7 [==============================] - 0s 36ms/step - loss: 0.2958 - accuracy: 0.9314 - val_loss: 0.4230 - val_accuracy: 0.8731\n",
            "Epoch 10/10\n",
            "7/7 [==============================] - 0s 33ms/step - loss: 0.2565 - accuracy: 0.9403 - val_loss: 0.3945 - val_accuracy: 0.8985\n"
          ]
        }
      ],
      "source": [
        "history = model.fit(X_train,y_train,epochs=10,validation_data=(X_test,y_test),batch_size=128,\n",
        "                    verbose=1)"
      ]
    },
    {
      "cell_type": "code",
      "execution_count": null,
      "id": "3ce4a90a",
      "metadata": {
        "execution": {
          "iopub.execute_input": "2023-12-27T08:15:46.204363Z",
          "iopub.status.busy": "2023-12-27T08:15:46.203842Z",
          "iopub.status.idle": "2023-12-27T08:15:46.631199Z",
          "shell.execute_reply": "2023-12-27T08:15:46.630066Z"
        },
        "papermill": {
          "duration": 0.695446,
          "end_time": "2023-12-27T08:15:46.633889",
          "exception": false,
          "start_time": "2023-12-27T08:15:45.938443",
          "status": "completed"
        },
        "tags": [],
        "id": "3ce4a90a",
        "outputId": "1cca311c-e9d9-45c0-c5b0-6bb0dd10e820",
        "colab": {
          "base_uri": "https://localhost:8080/",
          "height": 469
        }
      },
      "outputs": [
        {
          "output_type": "execute_result",
          "data": {
            "text/plain": [
              "<Axes: title={'center': 'Loss curve'}>"
            ]
          },
          "metadata": {},
          "execution_count": 102
        },
        {
          "output_type": "display_data",
          "data": {
            "text/plain": [
              "<Figure size 640x480 with 1 Axes>"
            ],
            "image/png": "[encoded data removed]"
          },
          "metadata": {}
        }
      ],
      "source": [
        "history_df = pd.DataFrame(history.history)\n",
        "history_df.loc[:, ['loss', 'val_loss']].plot(title = 'Loss curve')"
      ]
    },
    {
      "cell_type": "code",
      "execution_count": null,
      "id": "556c363e",
      "metadata": {
        "execution": {
          "iopub.execute_input": "2023-12-27T08:15:47.168712Z",
          "iopub.status.busy": "2023-12-27T08:15:47.167859Z",
          "iopub.status.idle": "2023-12-27T08:15:47.557349Z",
          "shell.execute_reply": "2023-12-27T08:15:47.556066Z"
        },
        "papermill": {
          "duration": 0.659639,
          "end_time": "2023-12-27T08:15:47.560266",
          "exception": false,
          "start_time": "2023-12-27T08:15:46.900627",
          "status": "completed"
        },
        "tags": [],
        "id": "556c363e",
        "outputId": "96d586c4-f28d-4182-b944-c0bfa500f120",
        "colab": {
          "base_uri": "https://localhost:8080/",
          "height": 469
        }
      },
      "outputs": [
        {
          "output_type": "execute_result",
          "data": {
            "text/plain": [
              "<Axes: title={'center': 'Accuracy curve'}>"
            ]
          },
          "metadata": {},
          "execution_count": 107
        },
        {
          "output_type": "display_data",
          "data": {
            "text/plain": [
              "<Figure size 640x480 with 1 Axes>"
            ],
            "image/png": "[encoded data removed]"
          },
          "metadata": {}
        }
      ],
      "source": [
        "history_df = pd.DataFrame(history.history)\n",
        "history_df.loc[:, ['accuracy', 'val_accuracy']].plot(title = 'Accuracy curve')"
      ]
    },
    {
      "cell_type": "markdown",
      "id": "e266e22a",
      "metadata": {
        "papermill": {
          "duration": null,
          "end_time": null,
          "exception": null,
          "start_time": null,
          "status": "pending"
        },
        "tags": [],
        "id": "e266e22a"
      },
      "source": [
        "# Построение нейронной сети  в 5 слоев"
      ]
    },
    {
      "cell_type": "code",
      "execution_count": null,
      "id": "946d3feb",
      "metadata": {
        "papermill": {
          "duration": null,
          "end_time": null,
          "exception": null,
          "start_time": null,
          "status": "pending"
        },
        "tags": [],
        "id": "946d3feb"
      },
      "outputs": [],
      "source": [
        "model=Sequential()\n",
        "model.add(Conv2D(32,(3,3),input_shape=(120,120,3),activation=\"relu\"))\n",
        "model.add(MaxPooling2D(pool_size=(3,3)))\n",
        "model.add(Flatten())\n",
        "model.add(Dense(256,activation=\"relu\"))\n",
        "model.add(Dense(4,activation=\"softmax\"))\n"
      ]
    },
    {
      "cell_type": "code",
      "execution_count": null,
      "id": "cd2a719d",
      "metadata": {
        "papermill": {
          "duration": null,
          "end_time": null,
          "exception": null,
          "start_time": null,
          "status": "pending"
        },
        "tags": [],
        "id": "cd2a719d"
      },
      "outputs": [],
      "source": [
        "model.compile(loss=keras.losses.categorical_crossentropy,\n",
        "             optimizer=keras.optimizers.Adam(),\n",
        "             metrics=[\"accuracy\"])"
      ]
    },
    {
      "cell_type": "code",
      "execution_count": null,
      "id": "86b8280e",
      "metadata": {
        "papermill": {
          "duration": null,
          "end_time": null,
          "exception": null,
          "start_time": null,
          "status": "pending"
        },
        "tags": [],
        "id": "86b8280e"
      },
      "outputs": [],
      "source": [
        "history = model.fit(X_train,y_train,epochs=10,validation_data=(X_test,y_test),batch_size=128,\n",
        "                    verbose=1)"
      ]
    },
    {
      "cell_type": "code",
      "execution_count": null,
      "id": "5eff68bc",
      "metadata": {
        "papermill": {
          "duration": null,
          "end_time": null,
          "exception": null,
          "start_time": null,
          "status": "pending"
        },
        "tags": [],
        "id": "5eff68bc"
      },
      "outputs": [],
      "source": [
        "history_df = pd.DataFrame(history.history)\n",
        "history_df.loc[:, ['loss', 'val_loss']].plot(title = 'Loss curve')"
      ]
    },
    {
      "cell_type": "code",
      "execution_count": null,
      "id": "01f64416",
      "metadata": {
        "papermill": {
          "duration": null,
          "end_time": null,
          "exception": null,
          "start_time": null,
          "status": "pending"
        },
        "tags": [],
        "id": "01f64416"
      },
      "outputs": [],
      "source": [
        "history_df = pd.DataFrame(history.history)\n",
        "history_df.loc[:, ['accuracy', 'val_accuracy']].plot(title = 'Accuracy curve')"
      ]
    },
    {
      "cell_type": "code",
      "execution_count": null,
      "id": "ae5cbffa",
      "metadata": {
        "papermill": {
          "duration": null,
          "end_time": null,
          "exception": null,
          "start_time": null,
          "status": "pending"
        },
        "tags": [],
        "id": "ae5cbffa"
      },
      "outputs": [],
      "source": [
        "варпвапвап"
      ]
    },
    {
      "cell_type": "markdown",
      "id": "426eb9d4",
      "metadata": {
        "id": "426eb9d4",
        "papermill": {
          "duration": null,
          "end_time": null,
          "exception": null,
          "start_time": null,
          "status": "pending"
        },
        "tags": []
      },
      "source": [
        "# Построение нейронной сети в 13 слоев и обучение"
      ]
    },
    {
      "cell_type": "code",
      "execution_count": null,
      "id": "9863daa3",
      "metadata": {
        "id": "9863daa3",
        "papermill": {
          "duration": null,
          "end_time": null,
          "exception": null,
          "start_time": null,
          "status": "pending"
        },
        "tags": []
      },
      "outputs": [],
      "source": [
        "model=Sequential()\n",
        "model.add(Conv2D(32,(3,3),input_shape=(120,120,3),activation=\"relu\"))\n",
        "model.add(MaxPooling2D(pool_size=(3,3)))\n",
        "model.add(Conv2D(64,(3,3),activation=\"relu\"))\n",
        "model.add(MaxPooling2D(pool_size=(3,3)))\n",
        "model.add(Conv2D(64,(3,3),activation=\"relu\"))\n",
        "model.add(MaxPooling2D(pool_size=(4,4)))\n",
        "model.add(Flatten())\n",
        "model.add(Dense(128,activation=\"relu\"))\n",
        "model.add(Dropout(0.2))\n",
        "model.add(Dense(128,activation=\"relu\"))\n",
        "model.add(Dropout(0.2))\n",
        "model.add(Dense(256,activation=\"relu\"))\n",
        "model.add(Dense(4,activation=\"softmax\"))"
      ]
    },
    {
      "cell_type": "code",
      "execution_count": null,
      "id": "84d53559",
      "metadata": {
        "id": "84d53559",
        "papermill": {
          "duration": null,
          "end_time": null,
          "exception": null,
          "start_time": null,
          "status": "pending"
        },
        "tags": []
      },
      "outputs": [],
      "source": [
        "# early_stopping = tf.keras.callbacks.EarlyStopping(patience=5,min_delta=0.001,restore_best_weights=True)"
      ]
    },
    {
      "cell_type": "markdown",
      "id": "ab94c3ba",
      "metadata": {
        "id": "ab94c3ba",
        "papermill": {
          "duration": null,
          "end_time": null,
          "exception": null,
          "start_time": null,
          "status": "pending"
        },
        "tags": []
      },
      "source": [
        "Сборка и обучение модели"
      ]
    },
    {
      "cell_type": "code",
      "execution_count": null,
      "id": "a453908b",
      "metadata": {
        "id": "a453908b",
        "papermill": {
          "duration": null,
          "end_time": null,
          "exception": null,
          "start_time": null,
          "status": "pending"
        },
        "tags": []
      },
      "outputs": [],
      "source": [
        "model.compile(loss=keras.losses.categorical_crossentropy,\n",
        "             optimizer=keras.optimizers.Adam(),\n",
        "             metrics=[\"accuracy\"])"
      ]
    },
    {
      "cell_type": "code",
      "execution_count": null,
      "id": "6fd53281",
      "metadata": {
        "id": "6fd53281",
        "papermill": {
          "duration": null,
          "end_time": null,
          "exception": null,
          "start_time": null,
          "status": "pending"
        },
        "tags": []
      },
      "outputs": [],
      "source": [
        "history = model.fit(X_train,y_train,epochs=10,validation_data=(X_test,y_test),batch_size=128,\n",
        "                    verbose=1)"
      ]
    },
    {
      "cell_type": "markdown",
      "id": "48dc34a2",
      "metadata": {
        "papermill": {
          "duration": null,
          "end_time": null,
          "exception": null,
          "start_time": null,
          "status": "pending"
        },
        "tags": [],
        "id": "48dc34a2"
      },
      "source": [
        "# Анализ результатов обучения"
      ]
    },
    {
      "cell_type": "code",
      "execution_count": null,
      "id": "371a612d",
      "metadata": {
        "id": "371a612d",
        "papermill": {
          "duration": null,
          "end_time": null,
          "exception": null,
          "start_time": null,
          "status": "pending"
        },
        "tags": []
      },
      "outputs": [],
      "source": [
        "history_df = pd.DataFrame(history.history)\n",
        "history_df.loc[:, ['loss', 'val_loss']].plot(title = 'Loss curve')"
      ]
    },
    {
      "cell_type": "code",
      "execution_count": null,
      "id": "685ada3d",
      "metadata": {
        "id": "685ada3d",
        "papermill": {
          "duration": null,
          "end_time": null,
          "exception": null,
          "start_time": null,
          "status": "pending"
        },
        "tags": []
      },
      "outputs": [],
      "source": [
        "history_df = pd.DataFrame(history.history)\n",
        "history_df.loc[:, ['accuracy', 'val_accuracy']].plot(title = 'Accuracy curve')"
      ]
    },
    {
      "cell_type": "code",
      "execution_count": null,
      "id": "47ab22c2",
      "metadata": {
        "id": "47ab22c2",
        "papermill": {
          "duration": null,
          "end_time": null,
          "exception": null,
          "start_time": null,
          "status": "pending"
        },
        "tags": []
      },
      "outputs": [],
      "source": [
        "result = model.evaluate(X_test, y_test)\n",
        "\n",
        "loss = result[0]\n",
        "accuracy = result[1]\n",
        "print(f\"[+] Accuracy: {accuracy*100:.2f}%\")"
      ]
    },
    {
      "cell_type": "code",
      "execution_count": null,
      "id": "74565982",
      "metadata": {
        "id": "74565982",
        "papermill": {
          "duration": null,
          "end_time": null,
          "exception": null,
          "start_time": null,
          "status": "pending"
        },
        "tags": []
      },
      "outputs": [],
      "source": [
        "from keras.models import Model\n",
        "model.save('my_model_steel.keras')"
      ]
    },
    {
      "cell_type": "code",
      "execution_count": null,
      "id": "4c5b55ed",
      "metadata": {
        "id": "4c5b55ed",
        "papermill": {
          "duration": null,
          "end_time": null,
          "exception": null,
          "start_time": null,
          "status": "pending"
        },
        "tags": []
      },
      "outputs": [],
      "source": [
        "from keras.models import load_model\n",
        "\n",
        "loaded_model = load_model('my_model.h5')\n"
      ]
    },
    {
      "cell_type": "markdown",
      "id": "db6f41a7",
      "metadata": {
        "papermill": {
          "duration": null,
          "end_time": null,
          "exception": null,
          "start_time": null,
          "status": "pending"
        },
        "tags": [],
        "id": "db6f41a7"
      },
      "source": [
        "# Архитектура созданной нейронной сети"
      ]
    },
    {
      "cell_type": "code",
      "execution_count": null,
      "id": "b0f644e3",
      "metadata": {
        "papermill": {
          "duration": null,
          "end_time": null,
          "exception": null,
          "start_time": null,
          "status": "pending"
        },
        "tags": [],
        "id": "b0f644e3"
      },
      "outputs": [],
      "source": [
        "model.summary()"
      ]
    },
    {
      "cell_type": "markdown",
      "id": "7051cc2c",
      "metadata": {
        "papermill": {
          "duration": null,
          "end_time": null,
          "exception": null,
          "start_time": null,
          "status": "pending"
        },
        "tags": [],
        "id": "7051cc2c"
      },
      "source": [
        "# Тестирование на новых примерах"
      ]
    },
    {
      "cell_type": "code",
      "execution_count": null,
      "id": "c6ce65fb",
      "metadata": {
        "papermill": {
          "duration": null,
          "end_time": null,
          "exception": null,
          "start_time": null,
          "status": "pending"
        },
        "tags": [],
        "id": "c6ce65fb"
      },
      "outputs": [],
      "source": [
        "l2[:3]"
      ]
    },
    {
      "cell_type": "code",
      "execution_count": null,
      "id": "b92d28ac",
      "metadata": {
        "papermill": {
          "duration": null,
          "end_time": null,
          "exception": null,
          "start_time": null,
          "status": "pending"
        },
        "tags": [],
        "id": "b92d28ac"
      },
      "outputs": [],
      "source": [
        "X= np.array(l1[:3])\n",
        "X = X/255\n",
        "\n",
        "y = encoder.fit_transform(l2[:3])\n",
        "y = np.array(y)"
      ]
    },
    {
      "cell_type": "code",
      "execution_count": null,
      "id": "1edf4a5e",
      "metadata": {
        "papermill": {
          "duration": null,
          "end_time": null,
          "exception": null,
          "start_time": null,
          "status": "pending"
        },
        "tags": [],
        "id": "1edf4a5e"
      },
      "outputs": [],
      "source": [
        "plt.imshow(l1[0]);"
      ]
    },
    {
      "cell_type": "code",
      "execution_count": null,
      "id": "59a4c377",
      "metadata": {
        "papermill": {
          "duration": null,
          "end_time": null,
          "exception": null,
          "start_time": null,
          "status": "pending"
        },
        "tags": [],
        "id": "59a4c377"
      },
      "outputs": [],
      "source": [
        "plt.imshow(l1[1]);"
      ]
    },
    {
      "cell_type": "code",
      "execution_count": null,
      "id": "0cdfe689",
      "metadata": {
        "papermill": {
          "duration": null,
          "end_time": null,
          "exception": null,
          "start_time": null,
          "status": "pending"
        },
        "tags": [],
        "id": "0cdfe689"
      },
      "outputs": [],
      "source": [
        "plt.imshow(l1[2]);"
      ]
    },
    {
      "cell_type": "code",
      "execution_count": null,
      "id": "ea343d7e",
      "metadata": {
        "papermill": {
          "duration": null,
          "end_time": null,
          "exception": null,
          "start_time": null,
          "status": "pending"
        },
        "tags": [],
        "id": "ea343d7e"
      },
      "outputs": [],
      "source": [
        "y =  to_categorical(y)\n",
        "y"
      ]
    },
    {
      "cell_type": "code",
      "execution_count": null,
      "id": "0d414f4c",
      "metadata": {
        "papermill": {
          "duration": null,
          "end_time": null,
          "exception": null,
          "start_time": null,
          "status": "pending"
        },
        "tags": [],
        "id": "0d414f4c"
      },
      "outputs": [],
      "source": [
        "\n",
        "predictions = model.predict(X)\n",
        "predictions"
      ]
    },
    {
      "cell_type": "markdown",
      "id": "062bebdc",
      "metadata": {
        "papermill": {
          "duration": null,
          "end_time": null,
          "exception": null,
          "start_time": null,
          "status": "pending"
        },
        "tags": [],
        "id": "062bebdc"
      },
      "source": [
        "Здесь три эксперимента, где мы видим, что тест № 2 был с меткой 3, но неверно идентифицировался как метка 1."
      ]
    },
    {
      "cell_type": "code",
      "execution_count": null,
      "id": "1f12be01",
      "metadata": {
        "papermill": {
          "duration": null,
          "end_time": null,
          "exception": null,
          "start_time": null,
          "status": "pending"
        },
        "tags": [],
        "id": "1f12be01"
      },
      "outputs": [],
      "source": [
        "model.summary()"
      ]
    },
    {
      "cell_type": "markdown",
      "id": "822bf4d1",
      "metadata": {
        "papermill": {
          "duration": null,
          "end_time": null,
          "exception": null,
          "start_time": null,
          "status": "pending"
        },
        "tags": [],
        "id": "822bf4d1"
      },
      "source": [
        "# описание архитектуры нейронной сети"
      ]
    },
    {
      "cell_type": "markdown",
      "id": "eaddca5f",
      "metadata": {
        "papermill": {
          "duration": null,
          "end_time": null,
          "exception": null,
          "start_time": null,
          "status": "pending"
        },
        "tags": [],
        "id": "eaddca5f"
      },
      "source": [
        "У нас тут многослойная нейронная сеть с разными типами слоев.\n",
        "\n",
        "теперь по поводу слоев нейронной сети и их особенностей.\n",
        "\n",
        "1 слой - Conv2D. Он используется для выполнения двумерной свертки входных данных. Он применяет набор фильтров к входному изображению или карте объектов, перемещая их по входным данным и вычисляя скалярное произведение в каждом месте. Эта операция позволяет слою извлекать объекты и фиксировать пространственные отношения во входных данных. Уровень Conv2D обычно используется в сверточных нейронных сетях (CNN) для таких задач, как классификация изображений, обнаружение объектов и сегментация изображений.\n",
        "\n",
        "2 слой - MaxPooling2D.  Это  операция понижающей дискретизации, которая уменьшает пространственные размеры (ширину и высоту) входного изображения или карты объектов. Он делит входные данные на непересекающиеся прямоугольники и выводит максимальное значение внутри каждого прямоугольника. Это помогает извлечь наиболее важные функции и снизить вычислительные требования для последующих слоев.\n",
        "\n",
        "Далее эти слои повторяются еще 2 раза.\n",
        "\n",
        "7 слой - Flatten. он преобразует входной тензор в одномерный массив, эффективно выравнивая его. Он принимает многомерный входной тензор, например двумерное изображение, и преобразует его в одномерный вектор, который можно использовать в качестве входных данных для полностью связного слоя или любого другого слоя, который ожидает одномерных входных данных.\n",
        "\n",
        "8 слой - Dense. это полностью связный слой, который соединяет каждый нейрон предыдущего слоя с каждым нейроном текущего слоя. Он выполняет линейную операцию над входными данными, за которой следует функция активации, позволяющая сети изучать сложные закономерности и взаимосвязи в данных. Количество нейронов в плотном слое определяет размерность вывода.\n",
        "\n",
        "9 cлой - Dropout. это метод регуляризации, используемый для уменьшения переобучения в нейронных сетях. Он случайным образом устанавливает для части входных единиц значение 0 на каждом этапе обучения, что помогает предотвратить слишком большую зависимость сети от конкретных функций или корреляций. Dropout улучшает способность модели к обобщению за счет внесения шума во время обучения и побуждает сеть изучать более надежные и независимые представления.\n",
        "\n",
        "Далее слои повторяются.\n",
        "\n",
        "В итоге в данной нейронной сети 12 различных слоев, и 139 780 параметров."
      ]
    }
  ],
  "metadata": {
    "accelerator": "GPU",
    "colab": {
      "gpuType": "T4",
      "provenance": []
    },
    "kaggle": {
      "accelerator": "none",
      "dataSources": [
        {
          "databundleVersionId": 862020,
          "sourceId": 14241,
          "sourceType": "competition"
        }
      ],
      "dockerImageVersionId": 30626,
      "isGpuEnabled": false,
      "isInternetEnabled": true,
      "language": "python",
      "sourceType": "notebook"
    },
    "kernelspec": {
      "display_name": "Python 3",
      "language": "python",
      "name": "python3"
    },
    "language_info": {
      "codemirror_mode": {
        "name": "ipython",
        "version": 3
      },
      "file_extension": ".py",
      "mimetype": "text/x-python",
      "name": "python",
      "nbconvert_exporter": "python",
      "pygments_lexer": "ipython3",
      "version": "3.10.12"
    },
    "papermill": {
      "default_parameters": {},
      "duration": 1062.742156,
      "end_time": "2023-12-27T08:15:53.589044",
      "environment_variables": {},
      "exception": true,
      "input_path": "__notebook__.ipynb",
      "output_path": "__notebook__.ipynb",
      "parameters": {},
      "start_time": "2023-12-27T07:58:10.846888",
      "version": "2.2.2"
    }
  },
  "nbformat": 4,
  "nbformat_minor": 5
}